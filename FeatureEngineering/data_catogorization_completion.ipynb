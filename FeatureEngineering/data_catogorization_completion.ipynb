{
 "cells": [
  {
   "cell_type": "code",
   "execution_count": 1,
   "metadata": {
    "collapsed": true
   },
   "outputs": [],
   "source": [
    "import numpy as np\n",
    "import pandas as pd\n",
    "import csv\n",
    "from sklearn.impute import SimpleImputer\n"
   ]
  },
  {
   "cell_type": "code",
   "execution_count": 2,
   "outputs": [],
   "source": [
    "\n",
    "with open(\"../Data/Raw/Asteroid_Updated.csv\", \"r\") as file_descriptor:\n",
    "    lines_reader = csv.reader(file_descriptor, delimiter=\",\")\n",
    "    data_array = np.array(list(map(lambda line: list(map(lambda item: np.nan if len(item) == 0 else item, line)), lines_reader)))"
   ],
   "metadata": {
    "collapsed": false,
    "pycharm": {
     "name": "#%%\n"
    }
   }
  },
  {
   "cell_type": "code",
   "execution_count": 3,
   "outputs": [],
   "source": [
    "with open(\"AuxiliaryData/Asteroid_Updated.bin\", \"wb\") as file_descriptor:\n",
    "    np.save(file_descriptor, data_array)"
   ],
   "metadata": {
    "collapsed": false,
    "pycharm": {
     "name": "#%%\n"
    }
   }
  },
  {
   "cell_type": "code",
   "execution_count": 4,
   "outputs": [],
   "source": [
    "with open(\"AuxiliaryData/Asteroid_Updated.bin\", \"rb\") as file_descriptor:\n",
    "    data_array = np.load(file_descriptor)"
   ],
   "metadata": {
    "collapsed": false,
    "pycharm": {
     "name": "#%%\n"
    }
   }
  },
  {
   "cell_type": "code",
   "execution_count": 5,
   "outputs": [
    {
     "name": "stdout",
     "output_type": "stream",
     "text": [
      "1\n",
      "2\n",
      "3\n",
      "4\n",
      "5\n",
      "6\n",
      "7\n",
      "8\n",
      "9\n",
      "11\n",
      "12\n",
      "15\n",
      "17\n",
      "18\n",
      "19\n",
      "20\n",
      "21\n",
      "25\n",
      "26\n",
      "28\n",
      "29\n",
      "30\n",
      "13\n",
      "14\n",
      "23\n",
      "24\n",
      "27\n",
      "['a', 'e', 'i', 'om', 'w', 'q', 'ad', 'per_y', 'data_arc', 'n_obs_used', 'H', 'diameter', 'albedo', 'rot_per', 'GM', 'BV', 'UB', 'G', 'moid', 'n', 'per', 'ma']\n",
      "['neo', 'pha', 'spec_B', 'spec_T', 'class']\n"
     ]
    }
   ],
   "source": [
    "use_number_rows = (1, 2, 3, 4, 5, 6, 7, 8, 9, 11, 12, 15, 17, 18, 19, 20, 21, 25, 26, 28, 29, 30)\n",
    "use_string_rows = (13, 14, 23, 24, 27)\n",
    "\n",
    "def reduce_data_array(current_data_array: np.array, use_rows: tuple, type_to_cast_to: type) -> np.array:\n",
    "    reduced_array = np.array([])\n",
    "\n",
    "    print(use_rows[0])\n",
    "    reduced_array = np.hstack((reduced_array, current_data_array[1:, use_rows[0]].astype(type_to_cast_to)))\n",
    "\n",
    "    for row in use_rows[1:]:\n",
    "        print(row)\n",
    "        reduced_array = np.vstack((reduced_array, current_data_array[1:, row].astype(type_to_cast_to)))\n",
    "\n",
    "    return np.transpose(reduced_array)\n",
    "\n",
    "\n",
    "typed_numerical_data_array = reduce_data_array(data_array, use_number_rows, float)\n",
    "typed_categorical_data_array = reduce_data_array(data_array, use_string_rows, str)\n",
    "\n",
    "number_header_list = [data_array[0, it] for it in use_number_rows]\n",
    "category_header_list = [data_array[0, jt] for jt in use_string_rows]\n",
    "\n",
    "print(number_header_list)\n",
    "print(category_header_list)"
   ],
   "metadata": {
    "collapsed": false,
    "pycharm": {
     "name": "#%%\n"
    }
   }
  },
  {
   "cell_type": "code",
   "execution_count": 6,
   "outputs": [],
   "source": [
    "diameter_col_nr = np.where(np.array(number_header_list) == \"diameter\")[0][0]\n",
    "\n",
    "lines_with_diameter = np.logical_not(np.isnan(typed_numerical_data_array[:, diameter_col_nr]))\n",
    "\n",
    "typed_numerical_data_with_diameter_array = typed_numerical_data_array[lines_with_diameter]\n",
    "typed_categorical_data_with_diameter_array = typed_categorical_data_array[lines_with_diameter]"
   ],
   "metadata": {
    "collapsed": false,
    "pycharm": {
     "name": "#%%\n"
    }
   }
  },
  {
   "cell_type": "code",
   "execution_count": 7,
   "outputs": [],
   "source": [
    "def get_columns_with_nan_from_numeric(current_data_array: np.array) -> tuple:\n",
    "    return tuple([it for it in range(current_data_array.shape[1]) if True in np.isnan(current_data_array[:, it])])\n",
    "\n",
    "def get_columns_with_nan_from_str(current_data_array) -> tuple:\n",
    "    return tuple([it for it in range(current_data_array.shape[1]) if (np.where(current_data_array[:, it] == \"nan\"))[0].shape[0] > 0])\n",
    "\n",
    "def get_completed_array(partial_array: np.array, nan_columns: tuple, current_imputer: SimpleImputer) -> np.array:\n",
    "    completed_array = np.copy(partial_array)\n",
    "\n",
    "    for column in nan_columns:\n",
    "        completed_array[:, column] = current_imputer.fit_transform(completed_array[:, column].reshape(-1, 1))[:, 0]\n",
    "\n",
    "    return completed_array\n",
    "\n",
    "def get_completed_dataframe(partial_dataframe: pd.DataFrame, nan_columns: tuple, current_imputer: SimpleImputer) -> np.array:\n",
    "    completed_dataframe = partial_dataframe.copy()\n",
    "\n",
    "    for column in nan_columns:\n",
    "        completed_dataframe[column] = current_imputer.fit_transform(completed_dataframe[column].values.reshape(-1, 1))[:, 0]\n",
    "\n",
    "    return completed_dataframe"
   ],
   "metadata": {
    "collapsed": false,
    "pycharm": {
     "name": "#%%\n"
    }
   }
  },
  {
   "cell_type": "code",
   "execution_count": 8,
   "outputs": [
    {
     "name": "stdout",
     "output_type": "stream",
     "text": [
      "(8, 10, 12, 13, 14, 15, 16, 17)\n",
      "()\n"
     ]
    }
   ],
   "source": [
    "#find numerical columns that should be completed\n",
    "\n",
    "list_of_nan_numerical_columns = get_columns_with_nan_from_numeric(typed_numerical_data_with_diameter_array)\n",
    "print(list_of_nan_numerical_columns)\n",
    "\n",
    "#complete those numerical columns with imputer\n",
    "\n",
    "completed_typed_numerical_data_with_diameter_array = get_completed_array(typed_numerical_data_with_diameter_array,\n",
    "                                                                         list_of_nan_numerical_columns,\n",
    "                                                                         SimpleImputer(missing_values=np.nan, strategy=\"mean\"))\n",
    "\n",
    "print(get_columns_with_nan_from_numeric(completed_typed_numerical_data_with_diameter_array))"
   ],
   "metadata": {
    "collapsed": false,
    "pycharm": {
     "name": "#%%\n"
    }
   }
  },
  {
   "cell_type": "code",
   "execution_count": 9,
   "outputs": [
    {
     "name": "stdout",
     "output_type": "stream",
     "text": [
      "(2, 3)\n",
      "()\n"
     ]
    }
   ],
   "source": [
    "#find categorical columns that should be completed\n",
    "\n",
    "list_of_nan_categorical_columns = get_columns_with_nan_from_str(typed_categorical_data_with_diameter_array)\n",
    "print(list_of_nan_categorical_columns)\n",
    "\n",
    "#complete those categorical colums with most common imputer\n",
    "\n",
    "typed_categorical_data_with_diameter_data_frame = pd.DataFrame(typed_categorical_data_with_diameter_array,\n",
    "                                                               columns=list(range(typed_categorical_data_with_diameter_array.shape[1])))\n",
    "\n",
    "\n",
    "completed_typed_categorical_data_with_diameter_data_frame = get_completed_dataframe(typed_categorical_data_with_diameter_data_frame,\n",
    "                                                                                    list_of_nan_categorical_columns,\n",
    "                                                                                    SimpleImputer(missing_values=\"nan\", strategy=\"most_frequent\"))\n",
    "\n",
    "print(get_columns_with_nan_from_str(completed_typed_categorical_data_with_diameter_data_frame.to_numpy()))"
   ],
   "metadata": {
    "collapsed": false,
    "pycharm": {
     "name": "#%%\n"
    }
   }
  },
  {
   "cell_type": "code",
   "execution_count": 19,
   "outputs": [],
   "source": [
    "#convert categorical data to binary format\n",
    "\n",
    "def prefix_columns(prefix: str, data_frame: pd.DataFrame) -> pd.DataFrame:\n",
    "    renamed_columns = [f\"{prefix}#{current_column}\" for current_column in list(data_frame.columns)]\n",
    "    return data_frame.rename(columns=dict(zip(list(data_frame.columns), renamed_columns)))\n",
    "\n",
    "binary_completed_typed_categorical_data_with_diameter_data_frame = \\\n",
    "    pd.get_dummies(completed_typed_categorical_data_with_diameter_data_frame[0])\n",
    "\n",
    "binary_completed_typed_categorical_data_with_diameter_data_frame = prefix_columns(category_header_list[0], binary_completed_typed_categorical_data_with_diameter_data_frame)\n",
    "\n",
    "for it, column in enumerate(completed_typed_categorical_data_with_diameter_data_frame.columns[1:]):\n",
    "    binary_categorical_data = pd.get_dummies(completed_typed_categorical_data_with_diameter_data_frame[column])\n",
    "    binary_categorical_data = prefix_columns(category_header_list[it + 1], binary_categorical_data)\n",
    "\n",
    "    binary_completed_typed_categorical_data_with_diameter_data_frame = pd.concat(\n",
    "        [binary_completed_typed_categorical_data_with_diameter_data_frame,\n",
    "         binary_categorical_data], axis=1).reindex(binary_categorical_data.index)\n",
    "\n",
    "\n",
    "binary_completed_typed_categorical_data_with_diameter_array = binary_completed_typed_categorical_data_with_diameter_data_frame.to_numpy()"
   ],
   "metadata": {
    "collapsed": false,
    "pycharm": {
     "name": "#%%\n"
    }
   }
  },
  {
   "cell_type": "code",
   "execution_count": 28,
   "outputs": [],
   "source": [
    "#join everything into one np array and an indexes np array\n",
    "\n",
    "normalized_data_array = np.hstack((completed_typed_numerical_data_with_diameter_array,\n",
    "                                   binary_completed_typed_categorical_data_with_diameter_array))\n",
    "\n",
    "normalized_data_header = np.hstack((np.array(number_header_list),\n",
    "                                    np.array(list(binary_completed_typed_categorical_data_with_diameter_data_frame.columns))))\n",
    "\n",
    "with open(\"AuxiliaryData/Asteroid_Updated_Normalized_Array.bin\", \"wb\") as file_descriptor:\n",
    "    np.save(file_descriptor, normalized_data_array)\n",
    "\n",
    "with open(\"AuxiliaryData/Asteroid_Updated_Normalized_Header.bin\", \"wb\") as file_descriptor:\n",
    "    np.save(file_descriptor, normalized_data_header)"
   ],
   "metadata": {
    "collapsed": false,
    "pycharm": {
     "name": "#%%\n"
    }
   }
  }
 ],
 "metadata": {
  "kernelspec": {
   "display_name": "Python 3",
   "language": "python",
   "name": "python3"
  },
  "language_info": {
   "codemirror_mode": {
    "name": "ipython",
    "version": 2
   },
   "file_extension": ".py",
   "mimetype": "text/x-python",
   "name": "python",
   "nbconvert_exporter": "python",
   "pygments_lexer": "ipython2",
   "version": "2.7.6"
  }
 },
 "nbformat": 4,
 "nbformat_minor": 0
}